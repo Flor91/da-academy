{
 "cells": [
  {
   "attachments": {},
   "cell_type": "markdown",
   "metadata": {},
   "source": [
    "# Introduction to Python\n",
    "\n",
    "- Created by Guid van Rossum\n",
    "- Interpreted, object oriented, high-level programming language\n",
    "- Dynamic typing, dynamic binding\n",
    "- Simple, easy to learn syntax, readability\n",
    "- Modules and packages support\n",
    "- Extensive standard library\n",
    "- Asynchronous operations\n",
    "- Everything is an object in python\n"
   ]
  }
 ],
 "metadata": {
  "kernelspec": {
   "display_name": "Python 3",
   "language": "python",
   "name": "python3"
  },
  "language_info": {
   "codemirror_mode": {
    "name": "ipython",
    "version": 3
   },
   "file_extension": ".py",
   "mimetype": "text/x-python",
   "name": "python",
   "nbconvert_exporter": "python",
   "pygments_lexer": "ipython3",
   "version": "3.6.5"
  }
 },
 "nbformat": 4,
 "nbformat_minor": 2
}
